{
 "cells": [
  {
   "cell_type": "code",
   "execution_count": 9,
   "id": "3c3cf1e5-edab-4676-9396-60792066a836",
   "metadata": {},
   "outputs": [],
   "source": [
    "import psycopg2\n",
    "import pandas as pd\n",
    "from psycopg2.extras import RealDictCursor\n",
    "\n",
    "# Database connection parameters from docker-compose.yml\n",
    "CONNECTION = 'host=postgres port=5432 dbname=mydb user=user password=password'\n",
    "\n",
    "conn = psycopg2.connect(CONNECTION)\n",
    "cur = conn.cursor(cursor_factory=RealDictCursor)\n"
   ]
  },
  {
   "cell_type": "code",
   "execution_count": 10,
   "id": "623021fb-c560-4a4f-a786-d5816847f85c",
   "metadata": {},
   "outputs": [],
   "source": [
    "cur.execute(f\"SELECT * FROM stations\")\n",
    "result = cur.fetchall()\n",
    "conn.commit()"
   ]
  },
  {
   "cell_type": "code",
   "execution_count": 11,
   "id": "c1c51e80-92a3-4f6e-bd59-b6dda5c3e775",
   "metadata": {},
   "outputs": [
    {
     "data": {
      "text/plain": [
       "[RealDictRow([('station_id', 'VS1721'),\n",
       "              ('station_name', 'Stavanger (SW) - Risavika')]),\n",
       " RealDictRow([('station_id', 'VS1596'),\n",
       "              ('station_name', 'Stavanger (S) - DSD')]),\n",
       " RealDictRow([('station_id', 'VS1595'),\n",
       "              ('station_name', 'Stavanger (N) - Tjuvholmen')]),\n",
       " RealDictRow([('station_id', 'VS1722'),\n",
       "              ('station_name', 'Stavanger (NW) - Mekjarvik')])]"
      ]
     },
     "execution_count": 11,
     "metadata": {},
     "output_type": "execute_result"
    }
   ],
   "source": [
    "result"
   ]
  },
  {
   "cell_type": "code",
   "execution_count": 12,
   "id": "c2a61cd0-d8ce-4d62-9bba-f1d42672d930",
   "metadata": {
    "scrolled": true
   },
   "outputs": [
    {
     "data": {
      "text/plain": [
       "RealDictRow([('count', 4)])"
      ]
     },
     "execution_count": 12,
     "metadata": {},
     "output_type": "execute_result"
    }
   ],
   "source": [
    "query = \"\"\"SELECT count(*) FROM stations\"\"\"\n",
    "cur.execute(query)\n",
    "result = cur.fetchone()\n",
    "conn.commit()\n",
    "result"
   ]
  },
  {
   "cell_type": "code",
   "execution_count": 13,
   "id": "218efec9-6c5c-418b-bbda-696ab3ffa208",
   "metadata": {},
   "outputs": [
    {
     "data": {
      "text/plain": [
       "[RealDictRow([('last', 0.4)])]"
      ]
     },
     "execution_count": 13,
     "metadata": {},
     "output_type": "execute_result"
    }
   ],
   "source": [
    "\n",
    "query = \"\"\"SELECT last(wind_speed, timestamp) FROM wind_measurements\"\"\"\n",
    "cur.execute(query)\n",
    "result = cur.fetchall()\n",
    "conn.commit()\n",
    "result"
   ]
  },
  {
   "cell_type": "code",
   "execution_count": 35,
   "id": "e6c20ee1-02b1-4ed9-8cb0-f6aa516dc8b3",
   "metadata": {},
   "outputs": [
    {
     "data": {
      "text/html": [
       "<div>\n",
       "<style scoped>\n",
       "    .dataframe tbody tr th:only-of-type {\n",
       "        vertical-align: middle;\n",
       "    }\n",
       "\n",
       "    .dataframe tbody tr th {\n",
       "        vertical-align: top;\n",
       "    }\n",
       "\n",
       "    .dataframe thead th {\n",
       "        text-align: right;\n",
       "    }\n",
       "</style>\n",
       "<table border=\"1\" class=\"dataframe\">\n",
       "  <thead>\n",
       "    <tr style=\"text-align: right;\">\n",
       "      <th></th>\n",
       "      <th>timestamp</th>\n",
       "      <th>wind_speed</th>\n",
       "    </tr>\n",
       "  </thead>\n",
       "  <tbody>\n",
       "    <tr>\n",
       "      <th>0</th>\n",
       "      <td>2025-03-09 07:45:24</td>\n",
       "      <td>0.0</td>\n",
       "    </tr>\n",
       "    <tr>\n",
       "      <th>1</th>\n",
       "      <td>2025-03-09 07:45:25</td>\n",
       "      <td>0.1</td>\n",
       "    </tr>\n",
       "    <tr>\n",
       "      <th>2</th>\n",
       "      <td>2025-03-09 07:45:26</td>\n",
       "      <td>0.1</td>\n",
       "    </tr>\n",
       "    <tr>\n",
       "      <th>3</th>\n",
       "      <td>2025-03-09 07:45:27</td>\n",
       "      <td>0.0</td>\n",
       "    </tr>\n",
       "    <tr>\n",
       "      <th>4</th>\n",
       "      <td>2025-03-09 07:45:28</td>\n",
       "      <td>0.0</td>\n",
       "    </tr>\n",
       "    <tr>\n",
       "      <th>...</th>\n",
       "      <td>...</td>\n",
       "      <td>...</td>\n",
       "    </tr>\n",
       "    <tr>\n",
       "      <th>2395</th>\n",
       "      <td>2025-03-09 19:46:47</td>\n",
       "      <td>0.7</td>\n",
       "    </tr>\n",
       "    <tr>\n",
       "      <th>2396</th>\n",
       "      <td>2025-03-09 19:46:48</td>\n",
       "      <td>0.9</td>\n",
       "    </tr>\n",
       "    <tr>\n",
       "      <th>2397</th>\n",
       "      <td>2025-03-09 19:46:49</td>\n",
       "      <td>0.8</td>\n",
       "    </tr>\n",
       "    <tr>\n",
       "      <th>2398</th>\n",
       "      <td>2025-03-09 19:46:50</td>\n",
       "      <td>0.7</td>\n",
       "    </tr>\n",
       "    <tr>\n",
       "      <th>2399</th>\n",
       "      <td>2025-03-09 19:46:51</td>\n",
       "      <td>0.8</td>\n",
       "    </tr>\n",
       "  </tbody>\n",
       "</table>\n",
       "<p>2400 rows × 2 columns</p>\n",
       "</div>"
      ],
      "text/plain": [
       "               timestamp  wind_speed\n",
       "0    2025-03-09 07:45:24         0.0\n",
       "1    2025-03-09 07:45:25         0.1\n",
       "2    2025-03-09 07:45:26         0.1\n",
       "3    2025-03-09 07:45:27         0.0\n",
       "4    2025-03-09 07:45:28         0.0\n",
       "...                  ...         ...\n",
       "2395 2025-03-09 19:46:47         0.7\n",
       "2396 2025-03-09 19:46:48         0.9\n",
       "2397 2025-03-09 19:46:49         0.8\n",
       "2398 2025-03-09 19:46:50         0.7\n",
       "2399 2025-03-09 19:46:51         0.8\n",
       "\n",
       "[2400 rows x 2 columns]"
      ]
     },
     "execution_count": 35,
     "metadata": {},
     "output_type": "execute_result"
    }
   ],
   "source": [
    "query = \"\"\"SELECT * FROM wind_measurements\"\"\"\n",
    "query = \"\"\"SELECT timestamp, wind_speed FROM wind_measurements WHERE timestamp BETWEEN '2025-03-09T07:10:33.387Z' AND '2025-03-09T23:40:33.387Z' ORDER BY 1\"\"\"\n",
    "cur.execute(query)\n",
    "result = cur.fetchall()\n",
    "conn.commit()\n",
    "pd.DataFrame(result).sort_values('timestamp')"
   ]
  },
  {
   "cell_type": "code",
   "execution_count": 23,
   "id": "e3c80309-97a4-41d0-acef-d3af175a0702",
   "metadata": {},
   "outputs": [
    {
     "data": {
      "text/html": [
       "<div>\n",
       "<style scoped>\n",
       "    .dataframe tbody tr th:only-of-type {\n",
       "        vertical-align: middle;\n",
       "    }\n",
       "\n",
       "    .dataframe tbody tr th {\n",
       "        vertical-align: top;\n",
       "    }\n",
       "\n",
       "    .dataframe thead th {\n",
       "        text-align: right;\n",
       "    }\n",
       "</style>\n",
       "<table border=\"1\" class=\"dataframe\">\n",
       "  <thead>\n",
       "    <tr style=\"text-align: right;\">\n",
       "      <th></th>\n",
       "    </tr>\n",
       "  </thead>\n",
       "  <tbody>\n",
       "  </tbody>\n",
       "</table>\n",
       "</div>"
      ],
      "text/plain": [
       "Empty DataFrame\n",
       "Columns: []\n",
       "Index: []"
      ]
     },
     "execution_count": 23,
     "metadata": {},
     "output_type": "execute_result"
    }
   ],
   "source": [
    "query = \"\"\"SELECT bucket as time, station_id, avg_speed as wind_speed, max_speed, min_speed FROM wind_measurements_15min WHERE bucket BETWEEN '2025-03-09T07:24:45.98' AND '2025-03-09T07:54:45.98' ORDER BY 1\"\"\"\n",
    "cur.execute(query)\n",
    "result = cur.fetchall()\n",
    "conn.commit()\n",
    "pd.DataFrame(result)"
   ]
  },
  {
   "cell_type": "code",
   "execution_count": null,
   "id": "50e08bfa-8893-4aa9-8a38-0413e214e918",
   "metadata": {},
   "outputs": [],
   "source": []
  },
  {
   "cell_type": "code",
   "execution_count": null,
   "id": "0eb92ea7-0798-4d8f-a894-27d2f606a694",
   "metadata": {},
   "outputs": [],
   "source": []
  },
  {
   "cell_type": "code",
   "execution_count": null,
   "id": "abd696ab-9da2-4a6d-b1d0-79d1cebfd26b",
   "metadata": {},
   "outputs": [],
   "source": []
  }
 ],
 "metadata": {
  "kernelspec": {
   "display_name": "Python 3 (ipykernel)",
   "language": "python",
   "name": "python3"
  },
  "language_info": {
   "codemirror_mode": {
    "name": "ipython",
    "version": 3
   },
   "file_extension": ".py",
   "mimetype": "text/x-python",
   "name": "python",
   "nbconvert_exporter": "python",
   "pygments_lexer": "ipython3",
   "version": "3.10.16"
  }
 },
 "nbformat": 4,
 "nbformat_minor": 5
}
